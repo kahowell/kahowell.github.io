{
 "cells": [
  {
   "cell_type": "markdown",
   "metadata": {
    "slideshow": {
     "slide_type": "slide"
    }
   },
   "source": [
    "# Automation 101 with Ansible\n",
    "------\n",
    "\n",
    "<img src=\"Ansible-Wordmark-RGB.svg\" width=\"80%\" style=\"margin:auto\">\n",
    "\n",
    "### Kevin Howell\n",
    "#### 2020-06-13 - Southeast Linux Fest\n",
    "\n",
    "<!--#1319 - automation #1205 - is it worth the time</comment>-->"
   ]
  },
  {
   "cell_type": "markdown",
   "metadata": {
    "slideshow": {
     "slide_type": "slide"
    }
   },
   "source": [
    "# Who Am I?\n",
    "------\n",
    "### khowell@redhat.com (or kevin@kahowell.net)\n",
    "### https://github.com/kahowell\n",
    "### https://kahowell.net\n",
    "### Red Hat Certified Architect\n",
    "### Principal Software Engineer\n",
    "### Subscription Management\n",
    "\n",
    "<div style=\"display: flex; height: 10%; align-items: flex-start\">\n",
    "    <img src=\"Red_Hat_Logo_2019.svg\" style=\"margin-right: 4em\">\n",
    "    <img src=\"candlepin_logo.png\">\n",
    "</div>"
   ]
  },
  {
   "cell_type": "markdown",
   "metadata": {
    "slideshow": {
     "slide_type": "slide"
    }
   },
   "source": [
    "# In This Talk\n",
    "-------\n",
    "### What is automation, in the general sense?\n",
    "### What kinds of things can you automate?\n",
    "### Ansible Lingo\n",
    "### Be Inspired!"
   ]
  },
  {
   "cell_type": "markdown",
   "metadata": {
    "slideshow": {
     "slide_type": "slide"
    }
   },
   "source": [
    "# What Is Automation?\n",
    "------\n",
    "## \"The act or process of converting the controlling of a machine or device to a more automatic system, such as computer or electronic controls.\" - Wiktionary"
   ]
  },
  {
   "cell_type": "markdown",
   "metadata": {
    "slideshow": {
     "slide_type": "subslide"
    }
   },
   "source": [
    "# What Is Automation?\n",
    "------\n",
    "## \"Moving pieces, or all, of a process to a machine\" - me\n"
   ]
  },
  {
   "cell_type": "markdown",
   "metadata": {
    "slideshow": {
     "slide_type": "slide"
    }
   },
   "source": [
    "# Programming == Automation?\n",
    "------\n",
    "## Is computer programming automation?"
   ]
  },
  {
   "cell_type": "markdown",
   "metadata": {
    "slideshow": {
     "slide_type": "subslide"
    }
   },
   "source": [
    "# Programming == Automation?\n",
    "------\n",
    "## Yes!"
   ]
  },
  {
   "cell_type": "markdown",
   "metadata": {
    "slideshow": {
     "slide_type": "subslide"
    }
   },
   "source": [
    "# Programming == Automation?\n",
    "------\n",
    "## ... No!"
   ]
  },
  {
   "cell_type": "markdown",
   "metadata": {
    "slideshow": {
     "slide_type": "subslide"
    }
   },
   "source": [
    "# Programming == Automation?\n",
    "------\n",
    "## Well, it depends...\n",
    "##  Programming is one *kind* of automation\n",
    "## Not all programming is automation and not all automation is programming"
   ]
  },
  {
   "cell_type": "markdown",
   "metadata": {
    "slideshow": {
     "slide_type": "slide"
    }
   },
   "source": [
    "# Game Programming\n",
    "------\n",
    "Not automation*. But a lot of fun!\n",
    "\n",
    "Trivia: Jerry Lawson is credited with inventing the first cartridge based gaming system in 1976!\n",
    "<div style=\"display:flex\">\n",
    "    <div style=\"flex: 1\">\n",
    "        <div>\n",
    "            <a title=\"Evan-Amos / CC BY-SA (https://creativecommons.org/licenses/by-sa/3.0)\" href=\"https://commons.wikimedia.org/wiki/File:Fairchild-Channel-F.jpg\"><img alt=\"Fairchild-Channel-F\" src=\"Fairchild-Channel-F.jpg\"></a>\n",
    "        </div>\n",
    "        <div>\n",
    "            Evan-Amos / CC BY-SA (https://creativecommons.org/licenses/by-sa/3.0)\n",
    "        </div>\n",
    "    </div>\n",
    "    <div style=\"flex: 1\">\n",
    "        <div>\n",
    "            <img src=\"Jerry_lawson_ca_1980.png\">\n",
    "        </div>\n",
    "        <div style=\"margin: auto\">\n",
    "            By <span title=\"must have been published or publicly displayed outside Wikipedia\">Source</span> (<a href=\"//en.wikipedia.org/wiki/Wikipedia:Non-free_content_criteria#4\" title=\"Wikipedia:Non-free content criteria\">WP:NFCC#4</a>), <a href=\"//en.wikipedia.org/wiki/File:Jerry_lawson_ca_1980.png\" title=\"Fair use of copyrighted material in the context of Jerry Lawson (engineer)\">Fair use</a>, <a href=\"https://en.wikipedia.org/w/index.php?curid=53130879\">Link</a>\n",
    "        </div>\n",
    "    </div>\n",
    "</div>"
   ]
  },
  {
   "cell_type": "markdown",
   "metadata": {
    "slideshow": {
     "slide_type": "notes"
    }
   },
   "source": [
    "I guess you could call it \"automating fun\"..."
   ]
  },
  {
   "cell_type": "markdown",
   "metadata": {
    "slideshow": {
     "slide_type": "slide"
    }
   },
   "source": [
    "# The Assembly Line\n",
    "------\n",
    "<img src=\"Ford_assembly_line_-_1913.jpg\" style=\"margin: auto; width: 65%\">"
   ]
  },
  {
   "cell_type": "markdown",
   "metadata": {
    "slideshow": {
     "slide_type": "notes"
    }
   },
   "source": [
    "The assembly line took part of the process, the moving of unfinished product which used to be done by manual labor, and replaced it with, sometimes, conveyor belts. Trivia: the term \"automation\" was coined by a 40s Ford VP."
   ]
  },
  {
   "cell_type": "markdown",
   "metadata": {
    "slideshow": {
     "slide_type": "slide"
    }
   },
   "source": [
    "# Automation Predates the Term\n",
    "------\n",
    "### From 1790, the automated mill:\n",
    "<img src=\"Oliver_Evans_-_Automated_mill.jpg\" style=\"margin: auto; width: 60%\">"
   ]
  },
  {
   "cell_type": "markdown",
   "metadata": {
    "slideshow": {
     "slide_type": "slide"
    }
   },
   "source": [
    "# What Can Be Automated?\n",
    "------\n",
    "## Any Repeatable Process..."
   ]
  },
  {
   "cell_type": "markdown",
   "metadata": {
    "slideshow": {
     "slide_type": "notes"
    }
   },
   "source": [
    "As we've seen manufacturing is an obvious example of a repeatable process that *has* been automated already."
   ]
  },
  {
   "cell_type": "markdown",
   "metadata": {
    "slideshow": {
     "slide_type": "slide"
    }
   },
   "source": [
    "# Modern Automation\n",
    "------\n",
    "Computers are super accessible in modern society."
   ]
  },
  {
   "cell_type": "markdown",
   "metadata": {
    "slideshow": {
     "slide_type": "notes"
    }
   },
   "source": [
    "Don't have to have a fortune or a mechanical engineering background."
   ]
  },
  {
   "cell_type": "markdown",
   "metadata": {
    "slideshow": {
     "slide_type": "subslide"
    }
   },
   "source": [
    "# Save the Trees!\n",
    "------\n",
    "<img src=\"800px-Save_tree(conceptual_).jpg\">\n",
    "Ashraful Islam Shimul / CC BY-SA (https://creativecommons.org/licenses/by-sa/4.0)"
   ]
  },
  {
   "cell_type": "markdown",
   "metadata": {
    "slideshow": {
     "slide_type": "slide"
    }
   },
   "source": [
    "# Ansible Lingo\n",
    "------\n",
    "## Learn How To Speak Ansible"
   ]
  },
  {
   "cell_type": "markdown",
   "metadata": {
    "slideshow": {
     "slide_type": "slide"
    }
   },
   "source": [
    "# Ansible Lingo - Playbook\n",
    "------\n",
    "## A set of tasks to be performed against a set of systems.\n",
    "\n",
    "### Example filenames:\n",
    "- `provision_vm.yml`\n",
    "- `enter_outage.yml`"
   ]
  },
  {
   "cell_type": "markdown",
   "metadata": {
    "slideshow": {
     "slide_type": "notes"
    }
   },
   "source": [
    "Playbook is the top-level object in typical Ansible usage. At a high level, it's a process to run. We'll see an example later."
   ]
  },
  {
   "cell_type": "markdown",
   "metadata": {
    "slideshow": {
     "slide_type": "slide"
    }
   },
   "source": [
    "# Ansible Lingo - Task\n",
    "------\n",
    "## Something for a system to do.\n",
    "\n",
    "### Examples task names:\n",
    "- Configure httpd\n",
    "- Generate the TPS report"
   ]
  },
  {
   "cell_type": "markdown",
   "metadata": {
    "slideshow": {
     "slide_type": "slide"
    }
   },
   "source": [
    "# Ansible Lingo - Inventory\n",
    "------\n",
    "## Record of systems for Ansible to orchestrate. The most basic form is an ini-file. Default path is `/etc/ansible/hosts`\n",
    "\n",
    "### Example:\n",
    "```ini\n",
    "[databases]\n",
    "database01.example.com\n",
    "database02.example.com\n",
    "\n",
    "[webservers]\n",
    "web.example.com\n",
    "```\n",
    "\n",
    "#### Ansible documentation prefers \"nodes\" to \"systems\"... Inventory can contain abstract resources such as containers or network equipment.\n",
    "\n",
    "### Inventories include:\n",
    "  - connection information (SSH or WinRM)\n",
    "  - arbitrary data for a given system"
   ]
  },
  {
   "cell_type": "markdown",
   "metadata": {
    "slideshow": {
     "slide_type": "subslide"
    }
   },
   "source": [
    "# Ansible Inventory - With Variables\n",
    "------\n",
    "```ini\n",
    "[databases]\n",
    "database01.example.com postgresql_version=12.3\n",
    "database02.example.com postgresql_version=10.13\n",
    "\n",
    "[webservers]\n",
    "web.example.com ansible_user=admin\n",
    "```"
   ]
  },
  {
   "cell_type": "markdown",
   "metadata": {
    "slideshow": {
     "slide_type": "slide"
    }
   },
   "source": [
    "# Ansible Lingo - Module\n",
    "------\n",
    "## Re-usage piece of Ansible logic\n",
    "## Has a set of arguments\n",
    "## A module with a set of arguments forms a task\n",
    "## Most modules are idempotent"
   ]
  },
  {
   "cell_type": "markdown",
   "metadata": {
    "slideshow": {
     "slide_type": "notes"
    }
   },
   "source": [
    "Explain idempotency - running a task multiple times won't cause changes"
   ]
  },
  {
   "cell_type": "markdown",
   "metadata": {
    "slideshow": {
     "slide_type": "slide"
    }
   },
   "source": [
    "# Ansible Lingo - YAML\n",
    "------\n",
    "## Ansible uses YAML (Yet Another Markup Language) to define tasks and playbooks.\n",
    "## I think of YAML as an alternative syntax to JSON\n",
    "## Strings, Numbers, Arrays, Objects.\n",
    "\n",
    "Example:\n",
    "```yaml\n",
    "# task list\n",
    "- walk the dog\n",
    "- mow the lawn\n",
    "\n",
    "# talk description - nested objects\n",
    "talks:\n",
    "  automation_101:\n",
    "    id: 101\n",
    "    title: \"Automation 101 w/ Ansible\"\n",
    "    keywords:\n",
    "      - ansible\n",
    "      - automation\n",
    "```"
   ]
  },
  {
   "cell_type": "markdown",
   "metadata": {
    "slideshow": {
     "slide_type": "notes"
    }
   },
   "source": [
    "YAML is the hardest aspect of Ansible to learn. It might be helpful if you have JSON experience to try a YAML-to-JSON converter for learning or debugging."
   ]
  },
  {
   "cell_type": "markdown",
   "metadata": {
    "slideshow": {
     "slide_type": "slide"
    }
   },
   "source": [
    "# Ansible Module - Template\n",
    "------\n",
    "example:\n",
    "```yaml\n",
    "- name: Configure hosts files\n",
    "  template:\n",
    "    src: /home/user/ansible/templates/hosts.j2\n",
    "    dest: /etc/hosts\n",
    "```\n",
    "`/home/user/ansible/templates/hosts.j2`:\n",
    "```jinja2\n",
    "127.0.0.1   localhost localhost.localdomain localhost4 localhost4.localdomain4\n",
    "::1         localhost localhost.localdomain localhost6 localhost6.localdomain6\n",
    "127.0.0.1   {{ development_hostname }}\n",
    "```\n",
    "\n",
    "`development_hostname` could be, for example: `www.example.com`\n",
    "\n"
   ]
  },
  {
   "cell_type": "markdown",
   "metadata": {
    "slideshow": {
     "slide_type": "slide"
    }
   },
   "source": [
    "# Ansible Module - command\n",
    "example:\n",
    "```yaml\n",
    "- name: Backup my stuff\n",
    "  command: /opt/backup.sh\n",
    "```"
   ]
  },
  {
   "cell_type": "markdown",
   "metadata": {
    "slideshow": {
     "slide_type": "slide"
    }
   },
   "source": [
    "# Ansible - Example Playbook\n",
    "------\n",
    "example:\n",
    "```yaml\n",
    "- hosts: databases\n",
    "  tasks:\n",
    "    - name: Configure postgres database\n",
    "      template:\n",
    "        src: /home/user/ansible/templates/pg_hba.j2\n",
    "        dest: /var/lib/pgsql/pg_hba.conf\n",
    "    - name: Upgrade postgres via pg_upgrade\n",
    "      command: pg_upgrade -b /dbbackup -B /var/lib/pgsql/data -d /dbconfig -D /var/lib/pgsql\n",
    "```\n",
    "If in a file named `update_postgres.yml`, can be invoked as `ansible-playbook update_postgres.yml`"
   ]
  },
  {
   "cell_type": "markdown",
   "metadata": {
    "slideshow": {
     "slide_type": "slide"
    }
   },
   "source": [
    "# Things I've done with Ansible\n",
    "------\n",
    "- At work, automated development environment setup w/ Vagrant and Ansible\n",
    "  - https://github.com/candlepin/ansible-role-candlepin\n",
    "  - https://github.com/candlepin/ansible-role-subman-devel\n",
    "- Automated my home networking config - if my openwrt-based router gets struck by lightning, I can get things back up and running quickly.\n",
    "- I can change my wifi passphrase by editing a local config file and running some automation."
   ]
  },
  {
   "cell_type": "markdown",
   "metadata": {
    "slideshow": {
     "slide_type": "slide"
    }
   },
   "source": [
    "# Ansible - Some Random Ideas\n",
    "------\n",
    "## nightly reboot of flaky service, followed by sanity checks\n",
    "## interact with APIs\n",
    "## full system configuration - bare metal to running machine"
   ]
  },
  {
   "cell_type": "markdown",
   "metadata": {
    "slideshow": {
     "slide_type": "slide"
    }
   },
   "source": [
    "# Ansible - Other Things You Can Do With Ansible\n",
    "------\n",
    "## Manage public cloud provider resources (e.g. AWS, Azure, Google)\n",
    "## Manage databases and users\n",
    "## Sync directories/files via rsync, git, http, ftp\n",
    "## Interact with alerting/monitoring systems\n",
    "## Send messages to IRC, Slack, etc."
   ]
  },
  {
   "cell_type": "markdown",
   "metadata": {
    "slideshow": {
     "slide_type": "slide"
    }
   },
   "source": [
    "# Ansible - But Wait There's More\n",
    "------\n",
    "## Manage users, groups, firewall, etc.\n",
    "## Manage Windows machines\n",
    "## and more...\n",
    "## For more details see https://docs.ansible.com/ansible/latest/modules/modules_by_category.html"
   ]
  },
  {
   "cell_type": "markdown",
   "metadata": {
    "slideshow": {
     "slide_type": "slide"
    }
   },
   "source": [
    "# Ansible - Ideas for Further Study\n",
    "------\n",
    "## Ansible Vault\n",
    "## Ansible Privilege Escalation\n",
    "## Ansible Jinja2 Filters\n",
    "## Ansible Roles\n",
    "## Dynamic Inventory\n",
    "## Ansible Galaxy"
   ]
  },
  {
   "cell_type": "markdown",
   "metadata": {
    "slideshow": {
     "slide_type": "slide"
    }
   },
   "source": [
    "# Ansible - Resources\n",
    "------\n",
    "## https://docs.ansible.com\n",
    "## https://galaxy.ansible.com/ - See how others automate with Ansible, reuse existing work\n",
    "## Consider Red Hat training for Ansible\n",
    "## Consider Ansible Automation Platform\n",
    "- includes Ansible Tower - Web UI w/ Enterprise Features"
   ]
  },
  {
   "cell_type": "markdown",
   "metadata": {
    "slideshow": {
     "slide_type": "slide"
    }
   },
   "source": [
    "# Q&A & Feedback\n",
    "------\n",
    "Thank you for attending!\n",
    "\n",
    "Feedback form https://forms.gle/9E8pdkJ9jR9ybfSk7.\n",
    "\n",
    "Presentation link https://kahowell.net/presentations/2020-06-13_automation_101_ansible/automation_101_ansible.slides.html."
   ]
  }
 ],
 "metadata": {
  "celltoolbar": "Slideshow",
  "kernelspec": {
   "display_name": "Python 3",
   "language": "python",
   "name": "python3"
  },
  "language_info": {
   "codemirror_mode": {
    "name": "ipython",
    "version": 3
   },
   "file_extension": ".py",
   "mimetype": "text/x-python",
   "name": "python",
   "nbconvert_exporter": "python",
   "pygments_lexer": "ipython3",
   "version": "3.8.2"
  }
 },
 "nbformat": 4,
 "nbformat_minor": 4
}
