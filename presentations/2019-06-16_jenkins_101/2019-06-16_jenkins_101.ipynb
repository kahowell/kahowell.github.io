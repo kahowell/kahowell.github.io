{
 "cells": [
  {
   "cell_type": "markdown",
   "metadata": {},
   "source": [
    "# Jenkins 101\n",
    "------\n",
    "<div class=\"logos\" style=\"padding:0\">\n",
    "<img alt=\"Jenkins\" src=\"Jenkins_logo_with_title.svg\" style=\"margin:5px\">\n",
    "</div>\n",
    "\n",
    "### Kevin Howell\n",
    "#### 2019-06-16 \n",
    "#### Southeast Linux Fest"
   ]
  }
 ],
 "metadata": {
  "kernelspec": {
   "display_name": "Python 3",
   "language": "python",
   "name": "python3"
  },
  "language_info": {
   "codemirror_mode": {
    "name": "ipython",
    "version": 3
   },
   "file_extension": ".py",
   "mimetype": "text/x-python",
   "name": "python",
   "nbconvert_exporter": "python",
   "pygments_lexer": "ipython3",
   "version": "3.7.3"
  }
 },
 "nbformat": 4,
 "nbformat_minor": 2
}
