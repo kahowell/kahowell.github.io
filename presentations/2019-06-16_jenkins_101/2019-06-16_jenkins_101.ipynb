{
 "cells": [
  {
   "cell_type": "markdown",
   "metadata": {
    "slideshow": {
     "slide_type": "slide"
    }
   },
   "source": [
    "# Jenkins 101\n",
    "------\n",
    "<div class=\"logo\" style=\"padding:0; display:flex; align-items:center\">\n",
    "    <img alt=\"Jenkins\" src=\"jenkins.svg\" style=\"margin: 0; margin-right: 20px\">\n",
    "    <div style=\"font-size:144px;font-family:'Liberation Serif';font-weight:bold\">Jenkins</div>\n",
    "</div>\n",
    "\n",
    "### Kevin Howell\n",
    "#### 2019-06-16 - Southeast Linux Fest"
   ]
  },
  {
   "cell_type": "markdown",
   "metadata": {
    "slideshow": {
     "slide_type": "slide"
    }
   },
   "source": [
    "# Jenkins 101 - Goals\n",
    "------"
   ]
  },
  {
   "cell_type": "markdown",
   "metadata": {
    "slideshow": {
     "slide_type": "fragment"
    }
   },
   "source": [
    "## Gain a basic understanding of Jenkins"
   ]
  },
  {
   "cell_type": "markdown",
   "metadata": {
    "slideshow": {
     "slide_type": "fragment"
    }
   },
   "source": [
    "## Learn how to install & manage Jenkins"
   ]
  },
  {
   "cell_type": "markdown",
   "metadata": {
    "slideshow": {
     "slide_type": "fragment"
    }
   },
   "source": [
    "## Learn some Jenkins best practices"
   ]
  },
  {
   "cell_type": "markdown",
   "metadata": {
    "slideshow": {
     "slide_type": "slide"
    }
   },
   "source": [
    "# Jenkins 101 - About Me\n",
    "------\n",
    "### khowell@redhat.com (or kevin@kahowell.net)\n",
    "### https://github.com/kahowell\n",
    "### https://kahowell.net\n",
    "### Red Hat Certified Architect\n",
    "### Senior Software Engineer & tech lead for Candlepin & subscription-manager team at Red Hat (Satellite 6)\n",
    "\n",
    "<div>\n",
    "    <img src=\"Red_Hat_Logo_2019.svg\" style=\"width: 20%\">\n",
    "    <img src=\"candlepin_logo.png\" style=\"width:10%\">\n",
    "</div>"
   ]
  },
  {
   "cell_type": "markdown",
   "metadata": {
    "slideshow": {
     "slide_type": "slide"
    }
   },
   "source": [
    "# Jenkins 101 - What is Jenkins?\n",
    "------"
   ]
  },
  {
   "cell_type": "markdown",
   "metadata": {
    "slideshow": {
     "slide_type": "fragment"
    }
   },
   "source": [
    "### Jenkins is a widely used open source automation server"
   ]
  },
  {
   "cell_type": "markdown",
   "metadata": {
    "slideshow": {
     "slide_type": "notes"
    }
   },
   "source": [
    "- If anyone has used Hudson, that's the project Jenkins forked from"
   ]
  },
  {
   "cell_type": "markdown",
   "metadata": {
    "slideshow": {
     "slide_type": "fragment"
    }
   },
   "source": [
    "### Indicated, common use is to use Jenkins to build and test software"
   ]
  },
  {
   "cell_type": "markdown",
   "metadata": {
    "slideshow": {
     "slide_type": "fragment"
    }
   },
   "source": [
    "### Jenkins can be used as a general purpose tool for centrally executing tasks"
   ]
  },
  {
   "cell_type": "markdown",
   "metadata": {
    "slideshow": {
     "slide_type": "notes"
    }
   },
   "source": [
    "- A centrally accessible web interface for triggering and monitoring automation"
   ]
  },
  {
   "cell_type": "markdown",
   "metadata": {
    "slideshow": {
     "slide_type": "fragment"
    }
   },
   "source": [
    "### Jenkins functionality is provided by a community of plugins"
   ]
  },
  {
   "cell_type": "markdown",
   "metadata": {
    "slideshow": {
     "slide_type": "notes"
    }
   },
   "source": [
    "- There is a vast ecosystem of plugins; they often make functionality more \"native\" to Jenkins; usually you can use shell scripts when a plugin doesn't exist or if you can't install Jenkins plugins due to security constraints or lack of access."
   ]
  },
  {
   "cell_type": "markdown",
   "metadata": {
    "slideshow": {
     "slide_type": "slide"
    }
   },
   "source": [
    "# Jenkins 101 - The Server\n",
    "------\n",
    "<div style=\"float:right; width: 25%\">\n",
    "    <img src=\"logo-rhel8.svg\" style=\"width: 100%\">\n",
    "    <hr>\n",
    "    <img src=\"Windows_darkblue_2012_svg.svg\" style=\"width:55%\">\n",
    "    <hr>\n",
    "    <img src=\"MacOS_wordmark_(2017).svg\" style=\"width:30%\">\n",
    "</div>\n",
    "\n",
    "The Jenkins server can run anywhere that Java runs.\n",
    "\n",
    "Jenkins creates packages for many platforms:\n",
    "\n",
    "- Linux\n",
    " - RHEL, Centos, Fedora\n",
    " - OpenSUSE\n",
    " - Ubuntu, Debian\n",
    " - Container Image\n",
    "- Windows\n",
    "- macOS"
   ]
  },
  {
   "cell_type": "markdown",
   "metadata": {
    "slideshow": {
     "slide_type": "slide"
    }
   },
   "source": [
    "# Jenkins 101 - Installation\n",
    "------"
   ]
  },
  {
   "cell_type": "markdown",
   "metadata": {
    "slideshow": {
     "slide_type": "fragment"
    }
   },
   "source": [
    "### Use your favorite package manager (https://jenkins.io has packages for nearly everything)."
   ]
  },
  {
   "cell_type": "markdown",
   "metadata": {
    "slideshow": {
     "slide_type": "fragment"
    }
   },
   "source": [
    "### Run a VM image"
   ]
  },
  {
   "cell_type": "markdown",
   "metadata": {
    "slideshow": {
     "slide_type": "notes"
    }
   },
   "source": [
    "- Preconfigured VM image from your cloud provider of choice\n",
    "- Custom VM image to be launched in your cloud provider of choice using https://packer.io or other similar tools."
   ]
  },
  {
   "cell_type": "markdown",
   "metadata": {
    "slideshow": {
     "slide_type": "fragment"
    }
   },
   "source": [
    "### Run a container image"
   ]
  },
  {
   "cell_type": "markdown",
   "metadata": {
    "slideshow": {
     "slide_type": "notes"
    }
   },
   "source": [
    "- docker.io/library/jenkins\n",
    "- OpenShift has a Jenkins image"
   ]
  },
  {
   "cell_type": "markdown",
   "metadata": {
    "slideshow": {
     "slide_type": "slide"
    }
   },
   "source": [
    "# Jenkins 101 - Server Interface\n",
    "------\n",
    "\n",
    "The primary way to interact with the server is through its Web interface, e.g. http://localhost:8080.\n",
    "\n",
    "<img src=\"jenkins_ui.png\">"
   ]
  },
  {
   "cell_type": "markdown",
   "metadata": {
    "slideshow": {
     "slide_type": "notes"
    }
   },
   "source": [
    "- show plugins pages\n",
    "- show security\n",
    "- show credentials"
   ]
  },
  {
   "cell_type": "markdown",
   "metadata": {
    "slideshow": {
     "slide_type": "slide"
    }
   },
   "source": [
    "# Jenkins 101 - Jenkins Nodes\n",
    "------\n",
    "It's **best practice** in Jenkins to use systems other than the server in order to execute tasks."
   ]
  },
  {
   "cell_type": "markdown",
   "metadata": {
    "slideshow": {
     "slide_type": "fragment"
    }
   },
   "source": [
    "### Security"
   ]
  },
  {
   "cell_type": "markdown",
   "metadata": {
    "slideshow": {
     "slide_type": "notes"
    }
   },
   "source": [
    "- Create nodes for specific tasks, and authorize those nodes to perform specific tasks\n",
    "- Example, you might put an ssh key on the node that the Jenkins user is able to use (compare to centrally storing on Jenkins).\n",
    "- A compromised node doesn't need to mean a compromised Jenkins server."
   ]
  },
  {
   "cell_type": "markdown",
   "metadata": {
    "slideshow": {
     "slide_type": "fragment"
    }
   },
   "source": [
    "### Stability"
   ]
  },
  {
   "cell_type": "markdown",
   "metadata": {
    "slideshow": {
     "slide_type": "notes"
    }
   },
   "source": [
    "- Don't tax the Jenkins server/master itself.\n",
    "- Scale up and down compute resources as necessary."
   ]
  },
  {
   "cell_type": "markdown",
   "metadata": {
    "slideshow": {
     "slide_type": "fragment"
    }
   },
   "source": [
    "### Isolation"
   ]
  },
  {
   "cell_type": "markdown",
   "metadata": {
    "slideshow": {
     "slide_type": "notes"
    }
   },
   "source": [
    "- provide a consistent level of service for each group/project/org using Jenkins."
   ]
  },
  {
   "cell_type": "markdown",
   "metadata": {
    "slideshow": {
     "slide_type": "fragment"
    }
   },
   "source": [
    "### Cross-platform automation"
   ]
  },
  {
   "cell_type": "markdown",
   "metadata": {
    "slideshow": {
     "slide_type": "notes"
    }
   },
   "source": [
    "- build or test your application against multiple platforms\n",
    "- with subscription-manager we test functionality against SUSE based systems using this."
   ]
  },
  {
   "cell_type": "markdown",
   "metadata": {
    "slideshow": {
     "slide_type": "slide"
    }
   },
   "source": [
    "# Jenkins 101 - Types of Jenkins Nodes\n",
    "------\n",
    "There are many ways to use systems as Jenkins nodes:"
   ]
  },
  {
   "cell_type": "markdown",
   "metadata": {
    "slideshow": {
     "slide_type": "fragment"
    }
   },
   "source": [
    "### The Jenkins server itself is a Jenkins node\n",
    "### SSH to system with Java installed"
   ]
  },
  {
   "cell_type": "markdown",
   "metadata": {
    "slideshow": {
     "slide_type": "notes"
    }
   },
   "source": [
    "- show ssh agent add here"
   ]
  },
  {
   "cell_type": "markdown",
   "metadata": {
    "slideshow": {
     "slide_type": "slide"
    }
   },
   "source": [
    "# Jenkins 101 - Types of Jenkins Nodes\n",
    "------\n",
    "### Provision and deprovision an on-premise VM on-demand (e.g. via OpenStack)\n",
    "<div style=\"float:right; width:25%\">\n",
    "    <img src=\"OpenStack_Logo2016.svg\">\n",
    "</div>"
   ]
  },
  {
   "cell_type": "markdown",
   "metadata": {
    "slideshow": {
     "slide_type": "slide"
    }
   },
   "source": [
    "# Jenkins 101 - Types of Jenkins Nodes\n",
    "------\n",
    "### Provision and deprovision a cloud-provider VM on-demand (e.g. via Amazon EC2)\n",
    "<div style=\"float:right; width:25%\">\n",
    "    <img src=\"Amazon_Web_Services_Logo.svg\" style=\"width:50%\"><img style=\"width:140%\" src=\"Google_Cloud_Logo.svg\"><img src=\"Microsoft_Azure_Logo.svg\">\n",
    "</div>"
   ]
  },
  {
   "cell_type": "markdown",
   "metadata": {
    "slideshow": {
     "slide_type": "slide"
    }
   },
   "source": [
    "# Jenkins 101 - Types of Jenkins Nodes\n",
    "------\n",
    "### Provision and deprovision containers or pods on a specific system on-demand\n",
    "<div style=\"float:right; width:25%\">\n",
    "    <img src=\"kubernetes-horizontal-color.svg\">\n",
    "</div>"
   ]
  },
  {
   "cell_type": "markdown",
   "metadata": {
    "slideshow": {
     "slide_type": "slide"
    }
   },
   "source": [
    "# Jenkins 101 - Freestyle Jobs\n",
    "------\n",
    "The original method of defining execution via Jenkins is the Job.\n",
    "\n",
    "Jobs are broken up into several components:"
   ]
  },
  {
   "cell_type": "markdown",
   "metadata": {
    "slideshow": {
     "slide_type": "fragment"
    }
   },
   "source": [
    "### Job configuration (e.g. git configuration, parameters)"
   ]
  },
  {
   "cell_type": "markdown",
   "metadata": {
    "slideshow": {
     "slide_type": "notes"
    }
   },
   "source": [
    "- retention\n",
    "- parameters\n",
    "- scm information\n",
    "- description is useful for documenting the job"
   ]
  },
  {
   "cell_type": "markdown",
   "metadata": {
    "slideshow": {
     "slide_type": "fragment"
    }
   },
   "source": [
    "### Triggers"
   ]
  },
  {
   "cell_type": "markdown",
   "metadata": {
    "slideshow": {
     "slide_type": "notes"
    }
   },
   "source": [
    "- trigger on git push\n",
    "- scheduled job w/ cron-like schedule"
   ]
  },
  {
   "cell_type": "markdown",
   "metadata": {
    "slideshow": {
     "slide_type": "fragment"
    }
   },
   "source": [
    "### Build Actions"
   ]
  },
  {
   "cell_type": "markdown",
   "metadata": {
    "slideshow": {
     "slide_type": "notes"
    }
   },
   "source": [
    "- think shell scripts as a baseline\n",
    "- can use parameters\n",
    "- can use credentials"
   ]
  },
  {
   "cell_type": "markdown",
   "metadata": {
    "slideshow": {
     "slide_type": "fragment"
    }
   },
   "source": [
    "### Post-Build Actions (e.g. send email)"
   ]
  },
  {
   "cell_type": "markdown",
   "metadata": {
    "slideshow": {
     "slide_type": "notes"
    }
   },
   "source": [
    "- convenience methods for notification mainly\n",
    "- chain jobs"
   ]
  },
  {
   "cell_type": "markdown",
   "metadata": {
    "slideshow": {
     "slide_type": "slide"
    }
   },
   "source": [
    "# Jenkins 101 - Freestyle Job Example - Web Interface\n",
    "------\n",
    "<img src=\"freestyle_job_ui.png\">"
   ]
  },
  {
   "cell_type": "markdown",
   "metadata": {
    "slideshow": {
     "slide_type": "slide"
    }
   },
   "source": [
    "# Jenkins 101 - Freestyle Job Example - Job DSL\n",
    "------\n",
    "Snippet from https://github.com/candlepin/candlepin-jobs/blob/8431af34901ee547f0d79474665dc76e28e7a308/src/jobs/submanVagrantUpstreamImagesJob.groovy:\n",
    "\n",
    "```groovy\n",
    "job(\"$baseFolder/vagrant-upstream-images\") {\n",
    "    description('builds centos, fedora, etc. vagrant images for subman development')\n",
    "    label('rhsm-packer')\n",
    "    scm {\n",
    "        github('candlepin/packer', 'master')\n",
    "    }\n",
    "    wrappers {\n",
    "        colorizeOutput()\n",
    "        credentialsBinding {\n",
    "            string('VAGRANT_CLOUD_TOKEN', 'VAGRANT_CLOUD_TOKEN')\n",
    "        }\n",
    "    }\n",
    "    steps {\n",
    "        shell(readFileFromWorkspace('src/resources/subman-vagrant-images.sh'))\n",
    "    }\n",
    "}\n",
    "```"
   ]
  },
  {
   "cell_type": "markdown",
   "metadata": {
    "slideshow": {
     "slide_type": "slide"
    }
   },
   "source": [
    "# Jenkins 101 - Pipelines\n",
    "------\n",
    "The preferred, modern way of automating with Jenkins is by implementing Jenkins pipelines.\n",
    "\n",
    "<img src=\"blue_ocean.png\">\n",
    "\n",
    "It was once common practice to create software pipelines by chaining Jenkins jobs together, but now pipelines are a first-class concept in Jenkins."
   ]
  },
  {
   "cell_type": "markdown",
   "metadata": {
    "slideshow": {
     "slide_type": "slide"
    }
   },
   "source": [
    "# Jenkins 101 - Example Pipeline\n",
    "------\n",
    "```groovy\n",
    "pipeline {\n",
    "    options { buildDiscarder(logRotator(numToKeepStr: '50')) }\n",
    "    agent {\n",
    "        label 'rhsm'\n",
    "    }\n",
    "    stages {\n",
    "        stage('Clean') {\n",
    "            steps {\n",
    "                sh './gradlew --no-daemon clean'\n",
    "            }\n",
    "        }\n",
    "        stage('Build') {\n",
    "            steps {\n",
    "                sh './gradlew --no-daemon assemble'\n",
    "            }\n",
    "        }\n",
    "        /* more stages omitted */\n",
    "    }\n",
    "\n",
    "    post {\n",
    "        always {\n",
    "            archiveArtifacts artifacts: 'build/reports/checkstyle/*.html'\n",
    "            junit 'build/test-results/**/*.xml'\n",
    "        }\n",
    "    }\n",
    "}\n",
    "```"
   ]
  },
  {
   "cell_type": "markdown",
   "metadata": {
    "slideshow": {
     "slide_type": "slide"
    }
   },
   "source": [
    "# Jenkins 101 - Pipeline Advice\n",
    "------"
   ]
  },
  {
   "cell_type": "markdown",
   "metadata": {
    "slideshow": {
     "slide_type": "fragment"
    }
   },
   "source": [
    "### `Jenkinsfile`, optional, but recommended"
   ]
  },
  {
   "cell_type": "markdown",
   "metadata": {
    "slideshow": {
     "slide_type": "notes"
    }
   },
   "source": [
    "- Think Makefile or .travis.yml"
   ]
  },
  {
   "cell_type": "markdown",
   "metadata": {
    "slideshow": {
     "slide_type": "fragment"
    }
   },
   "source": [
    "### Use the \"declarative\" syntax when possible"
   ]
  },
  {
   "cell_type": "markdown",
   "metadata": {
    "slideshow": {
     "slide_type": "notes"
    }
   },
   "source": [
    "- Declarative syntax provides more constraints, leads to less hacky code\n",
    "- can always use `script` blocks to break out into DSL"
   ]
  },
  {
   "cell_type": "markdown",
   "metadata": {
    "slideshow": {
     "slide_type": "fragment"
    }
   },
   "source": [
    "### Use script files (.sh, .py)"
   ]
  },
  {
   "cell_type": "markdown",
   "metadata": {
    "slideshow": {
     "slide_type": "notes"
    }
   },
   "source": [
    "- lots of people already know bash scripting or python, ruby, etc.\n",
    "- can use the scripts outside of Jenkins"
   ]
  },
  {
   "cell_type": "markdown",
   "metadata": {
    "slideshow": {
     "slide_type": "slide"
    }
   },
   "source": [
    "# Jenkins 101 - Jenkins as a Central Script Runner\n",
    "------"
   ]
  },
  {
   "cell_type": "markdown",
   "metadata": {
    "slideshow": {
     "slide_type": "fragment"
    }
   },
   "source": [
    "### Centralized way to run scripts"
   ]
  },
  {
   "cell_type": "markdown",
   "metadata": {
    "slideshow": {
     "slide_type": "notes"
    }
   },
   "source": [
    "- share your scripts\n",
    "- please keep them in a git repo"
   ]
  },
  {
   "cell_type": "markdown",
   "metadata": {
    "slideshow": {
     "slide_type": "fragment"
    }
   },
   "source": [
    "### Empower people to use root powers, without giving *them* root."
   ]
  },
  {
   "cell_type": "markdown",
   "metadata": {
    "slideshow": {
     "slide_type": "notes"
    }
   },
   "source": [
    "- give Jenkins and/or Jenkins nodes access and then control access to the job/pipeline\n",
    "- think who avoid scripting for fear, inexperience, or distrust"
   ]
  },
  {
   "cell_type": "markdown",
   "metadata": {
    "slideshow": {
     "slide_type": "fragment"
    }
   },
   "source": [
    "### Share output with colleagues easily"
   ]
  },
  {
   "cell_type": "markdown",
   "metadata": {
    "slideshow": {
     "slide_type": "notes"
    }
   },
   "source": [
    "- Jenkins keeps logs"
   ]
  },
  {
   "cell_type": "markdown",
   "metadata": {
    "slideshow": {
     "slide_type": "fragment"
    }
   },
   "source": [
    "### Keep a history of who and what"
   ]
  },
  {
   "cell_type": "markdown",
   "metadata": {
    "slideshow": {
     "slide_type": "notes"
    }
   },
   "source": [
    "- keep retention and storage in mind"
   ]
  },
  {
   "cell_type": "markdown",
   "metadata": {
    "slideshow": {
     "slide_type": "slide"
    }
   },
   "source": [
    "# Jenkins 101 - Jenkins for Continous Integration\n",
    "------\n",
    "Use Jenkins to test incoming changes:"
   ]
  },
  {
   "cell_type": "markdown",
   "metadata": {
    "slideshow": {
     "slide_type": "fragment"
    }
   },
   "source": [
    "### Unit tests"
   ]
  },
  {
   "cell_type": "markdown",
   "metadata": {
    "slideshow": {
     "slide_type": "notes"
    }
   },
   "source": [
    "- maintained in the code"
   ]
  },
  {
   "cell_type": "markdown",
   "metadata": {
    "slideshow": {
     "slide_type": "fragment"
    }
   },
   "source": [
    "### End-to-end tests"
   ]
  },
  {
   "cell_type": "markdown",
   "metadata": {
    "slideshow": {
     "slide_type": "notes"
    }
   },
   "source": [
    "- stand up your application\n",
    "- use same repo or multiple repos"
   ]
  },
  {
   "cell_type": "markdown",
   "metadata": {
    "slideshow": {
     "slide_type": "fragment"
    }
   },
   "source": [
    "### Static analysis"
   ]
  },
  {
   "cell_type": "markdown",
   "metadata": {
    "slideshow": {
     "slide_type": "notes"
    }
   },
   "source": [
    "- flake8\n",
    "- findbugs\n",
    "- sonarqube"
   ]
  },
  {
   "cell_type": "markdown",
   "metadata": {
    "slideshow": {
     "slide_type": "fragment"
    }
   },
   "source": [
    "### PRs or long-lived branches (e.g. master)"
   ]
  },
  {
   "cell_type": "markdown",
   "metadata": {
    "slideshow": {
     "slide_type": "notes"
    }
   },
   "source": [
    "- PRs for testing incoming changes\n",
    "- test long-lived branches to keep dev & hotfix branches stable, and keep a baseline"
   ]
  },
  {
   "cell_type": "markdown",
   "metadata": {
    "slideshow": {
     "slide_type": "slide"
    }
   },
   "source": [
    "# Jenkins 101 - Jenkins for Continous Delivery\n",
    "------\n",
    "Use Jenkins to automate building and releasing your products:"
   ]
  },
  {
   "cell_type": "markdown",
   "metadata": {
    "slideshow": {
     "slide_type": "fragment"
    }
   },
   "source": [
    "### Automate builds on various platforms"
   ]
  },
  {
   "cell_type": "markdown",
   "metadata": {
    "slideshow": {
     "slide_type": "notes"
    }
   },
   "source": [
    "- example, if you deliver an RPM and a Windows EXE installer"
   ]
  },
  {
   "cell_type": "markdown",
   "metadata": {
    "slideshow": {
     "slide_type": "fragment"
    }
   },
   "source": [
    "### Automate delivery to a CDN"
   ]
  },
  {
   "cell_type": "markdown",
   "metadata": {
    "slideshow": {
     "slide_type": "notes"
    }
   },
   "source": [
    "- Give Jenkins access to push your built releases to a CDN"
   ]
  },
  {
   "cell_type": "markdown",
   "metadata": {
    "slideshow": {
     "slide_type": "fragment"
    }
   },
   "source": [
    "### Automate deployment of a service"
   ]
  },
  {
   "cell_type": "markdown",
   "metadata": {
    "slideshow": {
     "slide_type": "notes"
    }
   },
   "source": [
    "- Give Jenkins access to your platform of choice\n",
    "- Use in conjuction with puppet, ansible, etc."
   ]
  },
  {
   "cell_type": "markdown",
   "metadata": {
    "slideshow": {
     "slide_type": "slide"
    }
   },
   "source": [
    "# Jenkins 101 - Recap\n",
    "------\n",
    "- Jenkins can be used for lots of kinds of automation\n",
    "- Plugins can be installed to provide additional functionality\n",
    "- Jenkins nodes allow you automate various platforms and isolate your automation\n",
    "- Pipelines should be used for new automation"
   ]
  },
  {
   "cell_type": "markdown",
   "metadata": {
    "slideshow": {
     "slide_type": "slide"
    }
   },
   "source": [
    "# Jenkins 101 - Resources\n",
    "------\n",
    "- Jenkins: https://jenkins.io\n",
    "- Jenkins Job DSL: https://github.com/jenkinsci/job-dsl-plugin\n",
    "- Job DSL Examples: https://github.com/sheehan/job-dsl-gradle-example\n",
    " - Real-World Jenkins Job Examples: https://github.com/candlepin/candlepin-jobs\n",
    "- Jenkins Pipeline Reference: https://jenkins.io/doc/pipeline/steps/\n",
    "- Jenkins Pipeline Examples: https://github.com/jenkinsci/pipeline-examples\n",
    " - Real-World Jenkins Pipeline Example: https://github.com/RedHatInsights/rhsm-conduit/blob/master/Jenkinsfile"
   ]
  },
  {
   "cell_type": "markdown",
   "metadata": {
    "slideshow": {
     "slide_type": "slide"
    }
   },
   "source": [
    "# Jenkins 101 - Q&A & Thank You!\n",
    "------\n",
    "Thanks for attending! Questions?\n",
    "\n",
    "<div style=\"display: flex\">\n",
    "    <div style=\"width: 50%;\">\n",
    "        <div style=\"float: left\">\n",
    "            <img src=\"presentation_link.svg\" style=\"width: 400px\">\n",
    "            <h3>Presentation: <a href=\"http://bit.ly/2KNvyIE\">http://bit.ly/2KNvyIE</a></h3>\n",
    "        </div>\n",
    "    </div>\n",
    "    <div style=\"width: 50%\">\n",
    "        <div style=\"float: right\">\n",
    "            <img src=\"survey.svg\" style=\"width: 400px\">\n",
    "            <h3>Feedback: <a href=\"https://forms.gle/Jgh1dPmMYTbq17KWA\">https://forms.gle/Jgh1dPmMYTbq17KWA</a></h3>\n",
    "        </div>\n",
    "    </div>\n",
    "</div>"
   ]
  }
 ],
 "metadata": {
  "celltoolbar": "Slideshow",
  "kernelspec": {
   "display_name": "Python 3",
   "language": "python",
   "name": "python3"
  },
  "language_info": {
   "codemirror_mode": {
    "name": "ipython",
    "version": 3
   },
   "file_extension": ".py",
   "mimetype": "text/x-python",
   "name": "python",
   "nbconvert_exporter": "python",
   "pygments_lexer": "ipython3",
   "version": "3.7.3"
  }
 },
 "nbformat": 4,
 "nbformat_minor": 2
}
