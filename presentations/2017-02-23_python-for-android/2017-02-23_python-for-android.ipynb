{
 "cells": [
  {
   "cell_type": "markdown",
   "metadata": {
    "slideshow": {
     "slide_type": "slide"
    }
   },
   "source": [
    "# Android&trade; Apps with python-for-android\n",
    "--------\n",
    "<div class=\"logos\">\n",
    "<img alt=\"Android Robot\" src=\"Android_Robot_200.png\"> + <img alt=\"Python Logo\" src=\"python-logo-master-v3-TM-cropped.png\">\n",
    "</div>\n",
    "\n",
    "### Kevin Howell\n",
    "#### 2017-02-23"
   ]
  },
  {
   "cell_type": "markdown",
   "metadata": {
    "slideshow": {
     "slide_type": "slide"
    }
   },
   "source": [
    "# A Little About Android\n",
    "\n",
    "<img style=\"float:right\" alt=\"Android Stack\" src=\"android_stack.png\"/>\n",
    "\n",
    "- Mobile operating system with Linux at the core\n",
    "- Apps typically written in Java-like language\n",
    "- Android *SDK* is in Java-like language"
   ]
  },
  {
   "cell_type": "markdown",
   "metadata": {
    "slideshow": {
     "slide_type": "subslide"
    }
   },
   "source": [
    "# Java? What About Python?\n",
    "\n",
    "<img style=\"float:right\" alt=\"Android Stack\" src=\"android_stack.png\"/>\n",
    "\n",
    "- \"Native libraries\" in Android are not implemented in Java-like language, but in native code (*generally* C/C++) using the NDK.\n",
    "- Python is implemented in C, thus we can get Python running via the NDK"
   ]
  },
  {
   "cell_type": "markdown",
   "metadata": {
    "slideshow": {
     "slide_type": "slide"
    }
   },
   "source": [
    "# Kivy - History/Context\n",
    "\n",
    "<img style=\"float:right\" alt=\"Kivy Logo\" src=\"kivy-logo-black-256.png\"/>\n",
    "\n",
    "- Cross-platform Python framework for writing applications.\n",
    "- Started circa early 2011.\n",
    "- Lots of useful things originating from Kivy..."
   ]
  },
  {
   "cell_type": "markdown",
   "metadata": {
    "slideshow": {
     "slide_type": "subslide"
    }
   },
   "source": [
    "# Kivy - python-for-android\n",
    "\n",
    "<img style=\"float:right\" alt=\"Kivy Logo\" src=\"kivy-logo-black-256.png\"/>\n",
    "\n",
    "Toolchain for building APKs for python projects.\n",
    "\n",
    "```console\n",
    "pip install python-for-android\n",
    "```\n",
    "\n",
    "`main.py` is your entrypoint. To build an APK:\n",
    "\n",
    "```console\n",
    "p4a apk --private . \\\n",
    "  --name TGG \\\n",
    "  --package net.kahowell.tgg \\\n",
    "  --version 0.1.0 \\\n",
    "  --bootstrap=sdl2 \\\n",
    "  --requirements=python2,kivy\n",
    "```"
   ]
  },
  {
   "cell_type": "markdown",
   "metadata": {
    "slideshow": {
     "slide_type": "slide"
    }
   },
   "source": [
    "# Mobile Application Architectures\n",
    "\n",
    "<img style=\"float:right\" alt=\"model-view-controller\" src=\"mvc.svg\"/>\n",
    "\n",
    "## Model-View-Controller"
   ]
  },
  {
   "cell_type": "markdown",
   "metadata": {
    "slideshow": {
     "slide_type": "notes"
    }
   },
   "source": [
    "Think typical design pattern; model and controller are in Python, for view you have a number of choices, including Kivy for natural UI, or SDL2 for custom graphics."
   ]
  },
  {
   "cell_type": "markdown",
   "metadata": {
    "slideshow": {
     "slide_type": "subslide"
    }
   },
   "source": [
    "# Mobile Application Architectures\n",
    "\n",
    "<img style=\"float:right\" alt=\"model-view-controller\" src=\"client-server.svg\"/>\n",
    "\n",
    "## Client-Server"
   ]
  },
  {
   "cell_type": "markdown",
   "metadata": {
    "slideshow": {
     "slide_type": "notes"
    }
   },
   "source": [
    "Client-server with remote server: local code that calls out to a remote server. You could use python-for-android to adapt some existing remote API to this; also phonegap/cordova"
   ]
  },
  {
   "cell_type": "markdown",
   "metadata": {
    "slideshow": {
     "slide_type": "subslide"
    }
   },
   "source": [
    "# Mobile Application Architectures\n",
    "\n",
    "<img style=\"float:right\" alt=\"model-view-controller\" src=\"phone-server.svg\"/>\n",
    "\n",
    "## Client-Server with Local Server"
   ]
  },
  {
   "cell_type": "markdown",
   "metadata": {
    "slideshow": {
     "slide_type": "notes"
    }
   },
   "source": [
    "Think of it as a webapp that runs on your phone, and is only accessible by your phone."
   ]
  },
  {
   "cell_type": "markdown",
   "metadata": {
    "slideshow": {
     "slide_type": "slide"
    }
   },
   "source": [
    "# Mobile User Interfaces\n",
    "## Native UI\n",
    "Possible, but lots of switching between Java & Python... not straight-forward."
   ]
  },
  {
   "cell_type": "markdown",
   "metadata": {
    "slideshow": {
     "slide_type": "subslide"
    }
   },
   "source": [
    "# Mobile User Interfaces\n",
    "## Cross-Platform UI\n",
    "Kivy"
   ]
  },
  {
   "cell_type": "markdown",
   "metadata": {
    "slideshow": {
     "slide_type": "subslide"
    }
   },
   "source": [
    "# Quick Demo - Kivy UI"
   ]
  },
  {
   "cell_type": "markdown",
   "metadata": {
    "slideshow": {
     "slide_type": "notes"
    }
   },
   "source": [
    "1. tree python-for-android/testapps/testapp\n",
    "2. python main.py from python-for-android/testapps/testapp\n",
    "3. avd: show kivy showcase"
   ]
  },
  {
   "cell_type": "markdown",
   "metadata": {
    "slideshow": {
     "slide_type": "subslide"
    }
   },
   "source": [
    "# Mobile User Interfaces\n",
    "## SDL2\n",
    "Custom graphics, ex. a game\n"
   ]
  },
  {
   "cell_type": "markdown",
   "metadata": {
    "slideshow": {
     "slide_type": "subslide"
    }
   },
   "source": [
    "# Mobile User Interfaces\n",
    "\n",
    "<div style=\"float:right; width: 20%\">\n",
    "<!-- insert example -->\n",
    "</div>\n",
    "\n",
    "## WebView\n",
    "\n",
    "Use your webapp skills (HTML, CSS, JavaScript)"
   ]
  },
  {
   "cell_type": "markdown",
   "metadata": {
    "slideshow": {
     "slide_type": "subslide"
    }
   },
   "source": [
    "# Quick Demo - WebView"
   ]
  },
  {
   "cell_type": "markdown",
   "metadata": {
    "slideshow": {
     "slide_type": "notes"
    }
   },
   "source": [
    "1. Show avd: kivy flask demo\n",
    "2. Run kivy flask demo locally"
   ]
  },
  {
   "cell_type": "markdown",
   "metadata": {
    "slideshow": {
     "slide_type": "slide"
    }
   },
   "source": [
    "# Porting Existing Code to Android\n",
    "\n",
    "<img style=\"float:right\" alt=\"Dependencies\" src=\"deps.svg\"/>\n",
    "\n",
    "It's all about dependencies...\n",
    "\n",
    "If your dependencies are pure-Python, then no extra work required.\n",
    "\n",
    "If they involve C extensions (Cython, SWIG, etc)., then you need to use a recipe.\n",
    "\n",
    "Recipes are written in Python, responsible for patching and building modules."
   ]
  },
  {
   "cell_type": "markdown",
   "metadata": {
    "slideshow": {
     "slide_type": "slide"
    }
   },
   "source": [
    "# Popular Libraries as Recipes\n",
    "\n",
    "- cffi\n",
    "- cryptography\n",
    "- m2crypto\n",
    "- mysqldb\n",
    "- numpy\n",
    "- openssl\n",
    "- pil\n",
    "- pygame\n",
    "- pytz\n",
    "- pyusb\n",
    "- pyzmq\n",
    "- sqlalchemy\n",
    "- twisted\n",
    "- vispy\n",
    "- zope"
   ]
  },
  {
   "cell_type": "markdown",
   "metadata": {
    "slideshow": {
     "slide_type": "slide"
    }
   },
   "source": [
    "# Accessing Android APIs from Python\n",
    "If you want to use smartphone features (ex. GPS)\n",
    "\n",
    "## High-level: Plyer\n",
    "Cross-platform interfaces to mobile device features (iOS-friendly!)\n",
    "\n",
    "```python\n",
    "from plyer import tts\n",
    "\n",
    "tts.speak('Hello world.')\n",
    "```"
   ]
  },
  {
   "cell_type": "markdown",
   "metadata": {
    "slideshow": {
     "slide_type": "subslide"
    }
   },
   "source": [
    "# Accessing Android APIs from Python\n",
    "If you want to use smartphone features (ex. GPS)\n",
    "\n",
    "## Low-level: Pyjnius\n",
    "Wraps Java code into python wrappers\n",
    "\n",
    "```python\n",
    "# example from https://pyjnius.readthedocs.io/en/latest/android.html#using-texttospeech\n",
    "from jnius import autoclass\n",
    "Locale = autoclass('java.util.Locale')\n",
    "PythonActivity = autoclass('org.renpy.android.PythonActivity')\n",
    "TextToSpeech = autoclass('android.speech.tts.TextToSpeech')\n",
    "tts = TextToSpeech(PythonActivity.mActivity, None)\n",
    "\n",
    "# Play something in english\n",
    "tts.setLanguage(Locale.US)\n",
    "tts.speak('Hello World.', TextToSpeech.QUEUE_FLUSH, None)\n",
    "```"
   ]
  },
  {
   "cell_type": "markdown",
   "metadata": {
    "slideshow": {
     "slide_type": "slide"
    }
   },
   "source": [
    "# Android App Considerations\n",
    "\n",
    "Apps get paused by Android itself; the application should save its state in case it is closed afterwards\n",
    "\n",
    "```python\n",
    "# not necessary for webview app\n",
    "class MyApp(App):\n",
    "    def on_pause(self):\n",
    "        pass  # save state here\n",
    "```\n",
    "\n",
    "There are idiomatic ways to handle things in an Android app that are different from desktop/server Python applications\n",
    "\n",
    "- background processes\n",
    "- data storage\n",
    "- permissions\n",
    "\n",
    "`python-for-android` builds for ARM by default, partial multiarch support"
   ]
  },
  {
   "cell_type": "markdown",
   "metadata": {
    "slideshow": {
     "slide_type": "slide"
    }
   },
   "source": [
    "# Quick Demo - How I Used It"
   ]
  },
  {
   "cell_type": "markdown",
   "metadata": {
    "slideshow": {
     "slide_type": "slide"
    }
   },
   "source": [
    "# Questions?"
   ]
  },
  {
   "cell_type": "markdown",
   "metadata": {
    "slideshow": {
     "slide_type": "slide"
    }
   },
   "source": [
    "# Resources\n",
    "\n",
    "- http://python-for-android.readthedocs.io/en/latest/\n",
    "- http://pyjnius.readthedocs.io/en/latest/\n",
    "- https://plyer.readthedocs.io/en/latest/\n",
    "- https://github.com/kivy/python-for-android/tree/master/testapps"
   ]
  },
  {
   "cell_type": "markdown",
   "metadata": {
    "slideshow": {
     "slide_type": "slide"
    }
   },
   "source": [
    "# Credits\n",
    "\n",
    "Android is a trademark of Google Inc.\n",
    "\n",
    "The Android robot is reproduced or modified from work created and shared by Google and used according to terms described in the Creative Commons 3.0 Attribution License.\n",
    "\n",
    "Portions of this presentation are modifications based on work created and shared by the Android Open Source Project and used according to terms described in the Creative Commons 2.5 Attribution License.\n",
    "\n",
    "The Python logo is a trademark of the Python Software Foundation.\n",
    "\n",
    "Kivy is a trademark of the Kivy Organization.\n",
    "\n",
    "The Kivy logo is a work done by Vincent Autin. The logo is placed under CC-BY-NC-ND."
   ]
  }
 ],
 "metadata": {
  "celltoolbar": "Slideshow",
  "kernelspec": {
   "display_name": "Python 3",
   "language": "python",
   "name": "python3"
  },
  "language_info": {
   "codemirror_mode": {
    "name": "ipython",
    "version": 3
   },
   "file_extension": ".py",
   "mimetype": "text/x-python",
   "name": "python",
   "nbconvert_exporter": "python",
   "pygments_lexer": "ipython3",
   "version": "3.7.3"
  }
 },
 "nbformat": 4,
 "nbformat_minor": 1
}
